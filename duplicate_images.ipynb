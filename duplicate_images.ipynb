{
 "nbformat": 4,
 "nbformat_minor": 2,
 "metadata": {
  "language_info": {
   "name": "python",
   "codemirror_mode": {
    "name": "ipython",
    "version": 3
   },
   "version": "3.7.3-final"
  },
  "orig_nbformat": 2,
  "file_extension": ".py",
  "mimetype": "text/x-python",
  "name": "python",
  "npconvert_exporter": "python",
  "pygments_lexer": "ipython3",
  "version": 3,
  "kernelspec": {
   "name": "python37364bit230750f2ffa44fbfaec87aca222121f5",
   "display_name": "Python 3.7.3 64-bit"
  }
 },
 "cells": [
  {
   "cell_type": "markdown",
   "metadata": {},
   "source": [
    "## Function to create a list with all the file paths within a path"
   ]
  },
  {
   "cell_type": "code",
   "execution_count": 21,
   "metadata": {},
   "outputs": [],
   "source": [
    "def getFilePaths(path):\n",
    "    # Function to return a list of files in a path:\n",
    "    # Initialize a list for all the file names\n",
    "    files = list()\n",
    "    # Look for folders in the list\n",
    "    for file in os.listdir(path):\n",
    "        # Concatenate a path for each file\n",
    "        pathfile = os.path.join(path, file)\n",
    "        # Validate if the pathfile is a folder\n",
    "        if os.path.isdir(pathfile):\n",
    "            files = files + getFilePaths(pathfile)\n",
    "        else:\n",
    "            files.append(pathfile)\n",
    "    return files      "
   ]
  },
  {
   "cell_type": "markdown",
   "metadata": {},
   "source": [
    "## Create a dataframe with the list of paths"
   ]
  },
  {
   "cell_type": "code",
   "execution_count": 22,
   "metadata": {},
   "outputs": [],
   "source": [
    "# Import dependencies\n",
    "import pandas as pd, time, hashlib"
   ]
  },
  {
   "cell_type": "code",
   "execution_count": 23,
   "metadata": {},
   "outputs": [
    {
     "output_type": "execute_result",
     "data": {
      "text/plain": "                                             path  \\\n0                             ../Photos/.DS_Store   \n1  ../Photos/New Folder With Items 5/DSC_0030.jpg   \n2  ../Photos/New Folder With Items 5/DSC_0024.jpg   \n3  ../Photos/New Folder With Items 5/DSC_0018.jpg   \n4  ../Photos/New Folder With Items 5/DSC_0019.jpg   \n\n                               hash      filename  count              created  \\\n0  5f27466e92caf57a930058b683ad5f7e     .DS_Store      1  2020-04-09 18:38:53   \n1  b8cc4ead5b44bdd8e994c21287e618e8  DSC_0030.jpg      1  2020-04-09 18:38:38   \n2  683d7efc80e910a2691880ca0ad9d059  DSC_0024.jpg      1  2020-04-09 18:38:38   \n3  689a4e61ff572cb10ca471fb58004df1  DSC_0018.jpg      1  2020-04-09 18:38:38   \n4  4d8c40e515d43b15a2dd6f826fdd1163  DSC_0019.jpg      1  2020-04-09 18:38:38   \n\n              modified  \n0  2020-04-09 18:38:53  \n1  2020-04-07 20:02:04  \n2  2020-04-07 19:59:50  \n3  2020-04-07 19:54:48  \n4  2020-04-07 19:55:54  ",
      "text/html": "<div>\n<style scoped>\n    .dataframe tbody tr th:only-of-type {\n        vertical-align: middle;\n    }\n\n    .dataframe tbody tr th {\n        vertical-align: top;\n    }\n\n    .dataframe thead th {\n        text-align: right;\n    }\n</style>\n<table border=\"1\" class=\"dataframe\">\n  <thead>\n    <tr style=\"text-align: right;\">\n      <th></th>\n      <th>path</th>\n      <th>hash</th>\n      <th>filename</th>\n      <th>count</th>\n      <th>created</th>\n      <th>modified</th>\n    </tr>\n  </thead>\n  <tbody>\n    <tr>\n      <td>0</td>\n      <td>../Photos/.DS_Store</td>\n      <td>5f27466e92caf57a930058b683ad5f7e</td>\n      <td>.DS_Store</td>\n      <td>1</td>\n      <td>2020-04-09 18:38:53</td>\n      <td>2020-04-09 18:38:53</td>\n    </tr>\n    <tr>\n      <td>1</td>\n      <td>../Photos/New Folder With Items 5/DSC_0030.jpg</td>\n      <td>b8cc4ead5b44bdd8e994c21287e618e8</td>\n      <td>DSC_0030.jpg</td>\n      <td>1</td>\n      <td>2020-04-09 18:38:38</td>\n      <td>2020-04-07 20:02:04</td>\n    </tr>\n    <tr>\n      <td>2</td>\n      <td>../Photos/New Folder With Items 5/DSC_0024.jpg</td>\n      <td>683d7efc80e910a2691880ca0ad9d059</td>\n      <td>DSC_0024.jpg</td>\n      <td>1</td>\n      <td>2020-04-09 18:38:38</td>\n      <td>2020-04-07 19:59:50</td>\n    </tr>\n    <tr>\n      <td>3</td>\n      <td>../Photos/New Folder With Items 5/DSC_0018.jpg</td>\n      <td>689a4e61ff572cb10ca471fb58004df1</td>\n      <td>DSC_0018.jpg</td>\n      <td>1</td>\n      <td>2020-04-09 18:38:38</td>\n      <td>2020-04-07 19:54:48</td>\n    </tr>\n    <tr>\n      <td>4</td>\n      <td>../Photos/New Folder With Items 5/DSC_0019.jpg</td>\n      <td>4d8c40e515d43b15a2dd6f826fdd1163</td>\n      <td>DSC_0019.jpg</td>\n      <td>1</td>\n      <td>2020-04-09 18:38:38</td>\n      <td>2020-04-07 19:55:54</td>\n    </tr>\n  </tbody>\n</table>\n</div>"
     },
     "metadata": {},
     "execution_count": 23
    }
   ],
   "source": [
    "# Path with the files to look for duplicates\n",
    "path='../Photos'\n",
    "# Initialize and empty dataframe with the paths of the files in the given path\n",
    "files_df = pd.DataFrame(getFilePaths(path),columns=['path'])\n",
    "# Initialize Columns for the dataframe \n",
    "files_df['hash'] = 0\n",
    "files_df['filename'] = ''\n",
    "files_df['count'] = 1\n",
    "files_df['created'] = 0\n",
    "files_df['modified'] = 0\n",
    "\n",
    "# Loop to fill the dataframe columns with values\n",
    "for row in range(len(files_df)):\n",
    "    # Load the file\n",
    "    image_file = open(files_df['path'][row],'rb').read()\n",
    "    # Encode the file to a hexagsimal number\n",
    "    files_df['hash'][row] = hashlib.md5(image_file).hexdigest()\n",
    "    # Get the filename of the file\n",
    "    files_df['filename'][row] = os.path.basename(files_df['path'][row])\n",
    "    # Get the created date \n",
    "    files_df['created'][row] = pd.to_datetime(time.ctime(os.path.getctime(files_df['path'][row])))\n",
    "    # Get the modified date \n",
    "    files_df['modified'][row] = pd.to_datetime(time.ctime(os.path.getmtime(files_df['path'][row])))\n",
    "# Print first rows of the dataframe    \n",
    "files_df.head()"
   ]
  },
  {
   "cell_type": "code",
   "execution_count": 24,
   "metadata": {},
   "outputs": [
    {
     "output_type": "execute_result",
     "data": {
      "text/plain": "                                  count\nhash                                   \n2ce0738fb3a0787942c97a0c07d25c2c      2\n6bcb3dd1f6148d9c388d32953b7a030c      2\n933827ccd64bd5345025069ddc79451f      4\nac30e5f00f3a848e6b174b081de267f8      2\ncc5e1128d73fa665d69939e6c088da18      2\nf67308e65280f43c78398f1c9da6c52d      2\nAll                                  14",
      "text/html": "<div>\n<style scoped>\n    .dataframe tbody tr th:only-of-type {\n        vertical-align: middle;\n    }\n\n    .dataframe tbody tr th {\n        vertical-align: top;\n    }\n\n    .dataframe thead th {\n        text-align: right;\n    }\n</style>\n<table border=\"1\" class=\"dataframe\">\n  <thead>\n    <tr style=\"text-align: right;\">\n      <th></th>\n      <th>count</th>\n    </tr>\n    <tr>\n      <th>hash</th>\n      <th></th>\n    </tr>\n  </thead>\n  <tbody>\n    <tr>\n      <td>2ce0738fb3a0787942c97a0c07d25c2c</td>\n      <td>2</td>\n    </tr>\n    <tr>\n      <td>6bcb3dd1f6148d9c388d32953b7a030c</td>\n      <td>2</td>\n    </tr>\n    <tr>\n      <td>933827ccd64bd5345025069ddc79451f</td>\n      <td>4</td>\n    </tr>\n    <tr>\n      <td>ac30e5f00f3a848e6b174b081de267f8</td>\n      <td>2</td>\n    </tr>\n    <tr>\n      <td>cc5e1128d73fa665d69939e6c088da18</td>\n      <td>2</td>\n    </tr>\n    <tr>\n      <td>f67308e65280f43c78398f1c9da6c52d</td>\n      <td>2</td>\n    </tr>\n    <tr>\n      <td>All</td>\n      <td>14</td>\n    </tr>\n  </tbody>\n</table>\n</div>"
     },
     "metadata": {},
     "execution_count": 24
    }
   ],
   "source": [
    "import numpy as np\n",
    "\n",
    "reapeated_files_df = files_df.groupby('hash').sum()\n",
    "reapeated_files_df = reapeated_files_df[reapeated_files_df['count'] > 1]\n",
    "pivot_df = pd.pivot_table(reapeated_files_df, values='count', index=['hash'], aggfunc=np.sum, margins=True)\n",
    "pivot_df"
   ]
  },
  {
   "cell_type": "code",
   "execution_count": 25,
   "metadata": {},
   "outputs": [
    {
     "output_type": "execute_result",
     "data": {
      "text/plain": "                                                                                     count\nhash                             path                                                     \n2ce0738fb3a0787942c97a0c07d25c2c ../Photos/New Folder With Items 4/DSC_0056 copy...      1\n                                 ../Photos/New Folder With Items 4/DSC_0056.jpg          1\n6bcb3dd1f6148d9c388d32953b7a030c ../Photos/New Folder With Items 4/DSC_0042 copy...      1\n                                 ../Photos/New Folder With Items 4/DSC_0042.jpg          1\n933827ccd64bd5345025069ddc79451f ../Photos/New Folder With Items/0009845a-53ab-4...      1\n                                 ../Photos/New Folder With Items/0009845a-53ab-4...      1\n                                 ../Photos/New Folder With Items/0009845a-53ab-4...      1\n                                 ../Photos/New Folder With Items/0009845a-53ab-4...      1\nac30e5f00f3a848e6b174b081de267f8 ../Photos/New Folder With Items 4/DSC_0040 copy...      1\n                                 ../Photos/New Folder With Items 4/DSC_0040.jpg          1\ncc5e1128d73fa665d69939e6c088da18 ../Photos/New Folder With Items 4/DSC_0057 copy...      1\n                                 ../Photos/New Folder With Items 4/DSC_0057.jpg          1\nf67308e65280f43c78398f1c9da6c52d ../Photos/New Folder With Items 4/DSC_0041 copy...      1\n                                 ../Photos/New Folder With Items 4/DSC_0041.jpg          1",
      "text/html": "<div>\n<style scoped>\n    .dataframe tbody tr th:only-of-type {\n        vertical-align: middle;\n    }\n\n    .dataframe tbody tr th {\n        vertical-align: top;\n    }\n\n    .dataframe thead th {\n        text-align: right;\n    }\n</style>\n<table border=\"1\" class=\"dataframe\">\n  <thead>\n    <tr style=\"text-align: right;\">\n      <th></th>\n      <th></th>\n      <th>count</th>\n    </tr>\n    <tr>\n      <th>hash</th>\n      <th>path</th>\n      <th></th>\n    </tr>\n  </thead>\n  <tbody>\n    <tr>\n      <td rowspan=\"2\" valign=\"top\">2ce0738fb3a0787942c97a0c07d25c2c</td>\n      <td>../Photos/New Folder With Items 4/DSC_0056 copy.jpg</td>\n      <td>1</td>\n    </tr>\n    <tr>\n      <td>../Photos/New Folder With Items 4/DSC_0056.jpg</td>\n      <td>1</td>\n    </tr>\n    <tr>\n      <td rowspan=\"2\" valign=\"top\">6bcb3dd1f6148d9c388d32953b7a030c</td>\n      <td>../Photos/New Folder With Items 4/DSC_0042 copy.jpg</td>\n      <td>1</td>\n    </tr>\n    <tr>\n      <td>../Photos/New Folder With Items 4/DSC_0042.jpg</td>\n      <td>1</td>\n    </tr>\n    <tr>\n      <td rowspan=\"4\" valign=\"top\">933827ccd64bd5345025069ddc79451f</td>\n      <td>../Photos/New Folder With Items/0009845a-53ab-4b7b-838e-3e76fa6a638f copy 2.jpg</td>\n      <td>1</td>\n    </tr>\n    <tr>\n      <td>../Photos/New Folder With Items/0009845a-53ab-4b7b-838e-3e76fa6a638f copy 3.jpg</td>\n      <td>1</td>\n    </tr>\n    <tr>\n      <td>../Photos/New Folder With Items/0009845a-53ab-4b7b-838e-3e76fa6a638f copy.jpg</td>\n      <td>1</td>\n    </tr>\n    <tr>\n      <td>../Photos/New Folder With Items/0009845a-53ab-4b7b-838e-3e76fa6a638f.jpg</td>\n      <td>1</td>\n    </tr>\n    <tr>\n      <td rowspan=\"2\" valign=\"top\">ac30e5f00f3a848e6b174b081de267f8</td>\n      <td>../Photos/New Folder With Items 4/DSC_0040 copy.jpg</td>\n      <td>1</td>\n    </tr>\n    <tr>\n      <td>../Photos/New Folder With Items 4/DSC_0040.jpg</td>\n      <td>1</td>\n    </tr>\n    <tr>\n      <td rowspan=\"2\" valign=\"top\">cc5e1128d73fa665d69939e6c088da18</td>\n      <td>../Photos/New Folder With Items 4/DSC_0057 copy.jpg</td>\n      <td>1</td>\n    </tr>\n    <tr>\n      <td>../Photos/New Folder With Items 4/DSC_0057.jpg</td>\n      <td>1</td>\n    </tr>\n    <tr>\n      <td rowspan=\"2\" valign=\"top\">f67308e65280f43c78398f1c9da6c52d</td>\n      <td>../Photos/New Folder With Items 4/DSC_0041 copy.jpg</td>\n      <td>1</td>\n    </tr>\n    <tr>\n      <td>../Photos/New Folder With Items 4/DSC_0041.jpg</td>\n      <td>1</td>\n    </tr>\n  </tbody>\n</table>\n</div>"
     },
     "metadata": {},
     "execution_count": 25
    }
   ],
   "source": [
    "repeated_path_df = files_df[files_df['hash'].isin(pivot_df.index.to_list())]\n",
    "repeated_path_df = repeated_path_df.groupby(['hash','path']).sum()\n",
    "repeated_path_df"
   ]
  },
  {
   "cell_type": "code",
   "execution_count": null,
   "metadata": {},
   "outputs": [],
   "source": []
  }
 ]
}