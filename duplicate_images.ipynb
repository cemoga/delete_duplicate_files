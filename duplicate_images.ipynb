{
 "nbformat": 4,
 "nbformat_minor": 2,
 "metadata": {
  "language_info": {
   "name": "python",
   "codemirror_mode": {
    "name": "ipython",
    "version": 3
   },
   "version": "3.7.3-final"
  },
  "orig_nbformat": 2,
  "file_extension": ".py",
  "mimetype": "text/x-python",
  "name": "python",
  "npconvert_exporter": "python",
  "pygments_lexer": "ipython3",
  "version": 3,
  "kernelspec": {
   "name": "python37364bit230750f2ffa44fbfaec87aca222121f5",
   "display_name": "Python 3.7.3 64-bit"
  }
 },
 "cells": [
  {
   "cell_type": "code",
   "execution_count": 314,
   "metadata": {},
   "outputs": [],
   "source": [
    "import pandas as pd\n",
    "import hashlib\n",
    "def getFilePaths(path):\n",
    "    # Function to return a list of files in a path:\n",
    "    # Initialize a list for all the file names\n",
    "    files = list()\n",
    "    # Look for folders in the list\n",
    "    for file in os.listdir(path):\n",
    "        # Concatenate a path for each file\n",
    "        pathfile = os.path.join(path, file)\n",
    "        # Validate if the pathfile is a folder\n",
    "        if os.path.isdir(pathfile):\n",
    "            files = files + getFilePaths(pathfile)\n",
    "        else:\n",
    "            files.append(pathfile)\n",
    "    return files      \n",
    ""
   ]
  },
  {
   "cell_type": "code",
   "execution_count": 315,
   "metadata": {},
   "outputs": [
    {
     "output_type": "execute_result",
     "data": {
      "text/plain": "                                                 path  \\\n0                                 ../Photos/.DS_Store   \n1      ../Photos/New Folder With Items 5/DSC_0030.jpg   \n2      ../Photos/New Folder With Items 5/DSC_0024.jpg   \n3      ../Photos/New Folder With Items 5/DSC_0018.jpg   \n4      ../Photos/New Folder With Items 5/DSC_0019.jpg   \n..                                                ...   \n72  ../Photos/New Folder With Items/0009845a-53ab-...   \n73  ../Photos/New Folder With Items/2a42e755-9ac0-...   \n74  ../Photos/New Folder With Items/507c61f2-2cc9-...   \n75  ../Photos/New Folder With Items/0009845a-53ab-...   \n76  ../Photos/New Folder With Items/6c5f2221-f892-...   \n\n                                hash  \n0   5f27466e92caf57a930058b683ad5f7e  \n1   b8cc4ead5b44bdd8e994c21287e618e8  \n2   683d7efc80e910a2691880ca0ad9d059  \n3   689a4e61ff572cb10ca471fb58004df1  \n4   4d8c40e515d43b15a2dd6f826fdd1163  \n..                               ...  \n72  933827ccd64bd5345025069ddc79451f  \n73  d3773a9b2bf4fac3ffe8656e253195eb  \n74  74198ac70368792400a3a1a0900cc769  \n75  933827ccd64bd5345025069ddc79451f  \n76  21e1de528846733d78e3565a91145e3e  \n\n[77 rows x 2 columns]",
      "text/html": "<div>\n<style scoped>\n    .dataframe tbody tr th:only-of-type {\n        vertical-align: middle;\n    }\n\n    .dataframe tbody tr th {\n        vertical-align: top;\n    }\n\n    .dataframe thead th {\n        text-align: right;\n    }\n</style>\n<table border=\"1\" class=\"dataframe\">\n  <thead>\n    <tr style=\"text-align: right;\">\n      <th></th>\n      <th>path</th>\n      <th>hash</th>\n    </tr>\n  </thead>\n  <tbody>\n    <tr>\n      <td>0</td>\n      <td>../Photos/.DS_Store</td>\n      <td>5f27466e92caf57a930058b683ad5f7e</td>\n    </tr>\n    <tr>\n      <td>1</td>\n      <td>../Photos/New Folder With Items 5/DSC_0030.jpg</td>\n      <td>b8cc4ead5b44bdd8e994c21287e618e8</td>\n    </tr>\n    <tr>\n      <td>2</td>\n      <td>../Photos/New Folder With Items 5/DSC_0024.jpg</td>\n      <td>683d7efc80e910a2691880ca0ad9d059</td>\n    </tr>\n    <tr>\n      <td>3</td>\n      <td>../Photos/New Folder With Items 5/DSC_0018.jpg</td>\n      <td>689a4e61ff572cb10ca471fb58004df1</td>\n    </tr>\n    <tr>\n      <td>4</td>\n      <td>../Photos/New Folder With Items 5/DSC_0019.jpg</td>\n      <td>4d8c40e515d43b15a2dd6f826fdd1163</td>\n    </tr>\n    <tr>\n      <td>...</td>\n      <td>...</td>\n      <td>...</td>\n    </tr>\n    <tr>\n      <td>72</td>\n      <td>../Photos/New Folder With Items/0009845a-53ab-...</td>\n      <td>933827ccd64bd5345025069ddc79451f</td>\n    </tr>\n    <tr>\n      <td>73</td>\n      <td>../Photos/New Folder With Items/2a42e755-9ac0-...</td>\n      <td>d3773a9b2bf4fac3ffe8656e253195eb</td>\n    </tr>\n    <tr>\n      <td>74</td>\n      <td>../Photos/New Folder With Items/507c61f2-2cc9-...</td>\n      <td>74198ac70368792400a3a1a0900cc769</td>\n    </tr>\n    <tr>\n      <td>75</td>\n      <td>../Photos/New Folder With Items/0009845a-53ab-...</td>\n      <td>933827ccd64bd5345025069ddc79451f</td>\n    </tr>\n    <tr>\n      <td>76</td>\n      <td>../Photos/New Folder With Items/6c5f2221-f892-...</td>\n      <td>21e1de528846733d78e3565a91145e3e</td>\n    </tr>\n  </tbody>\n</table>\n<p>77 rows × 2 columns</p>\n</div>"
     },
     "metadata": {},
     "execution_count": 315
    }
   ],
   "source": [
    "\n",
    "path='../Photos'\n",
    "\n",
    "files_df = pd.DataFrame(getFilePaths(path),columns=['path'])\n",
    "#files_df['image_file'] = hashlib.md5(open(files_df['path']).read()).hexdigest()\n",
    "files_df['hash'] = 0\n",
    "for row in range(len(files_df)):\n",
    "    image_file = open(files_df['path'][row],'rb').read()\n",
    "    files_df['hash'][row] = hashlib.md5(image_file).hexdigest()\n",
    "files_df\n",
    "\n",
    "#image_file = open('data/cat_grumpy_orig.png').read()\n",
    "#hashlib.md5(image_file).hexdigest()\n",
    "#files_df['path'][1211]"
   ]
  },
  {
   "cell_type": "code",
   "execution_count": 316,
   "metadata": {},
   "outputs": [
    {
     "output_type": "execute_result",
     "data": {
      "text/plain": "                                  path\nhash                                  \n051ad0975b0fe42a381722d027364ef4     1\n0659c025cdb6e3afbcecb8ddeb52ff7e     1\n07f63c2ed334d6e3c31d13f4030156ed     1\n0ba6b27dad449cbad5d3dbb883902909     1\n0d854a374daae737aab4ab7c6e111836     1\n...                                ...\nf2176243068a5291219ea2acbe512026     1\nf552b34bfaec0b1c49939c8de5bf09cd     1\nf59d6ec3df66537b0f82622db13a6d22     1\nf67308e65280f43c78398f1c9da6c52d     1\nfc1aaa672f02efd05d7a2384e947c227     1\n\n[74 rows x 1 columns]",
      "text/html": "<div>\n<style scoped>\n    .dataframe tbody tr th:only-of-type {\n        vertical-align: middle;\n    }\n\n    .dataframe tbody tr th {\n        vertical-align: top;\n    }\n\n    .dataframe thead th {\n        text-align: right;\n    }\n</style>\n<table border=\"1\" class=\"dataframe\">\n  <thead>\n    <tr style=\"text-align: right;\">\n      <th></th>\n      <th>path</th>\n    </tr>\n    <tr>\n      <th>hash</th>\n      <th></th>\n    </tr>\n  </thead>\n  <tbody>\n    <tr>\n      <td>051ad0975b0fe42a381722d027364ef4</td>\n      <td>1</td>\n    </tr>\n    <tr>\n      <td>0659c025cdb6e3afbcecb8ddeb52ff7e</td>\n      <td>1</td>\n    </tr>\n    <tr>\n      <td>07f63c2ed334d6e3c31d13f4030156ed</td>\n      <td>1</td>\n    </tr>\n    <tr>\n      <td>0ba6b27dad449cbad5d3dbb883902909</td>\n      <td>1</td>\n    </tr>\n    <tr>\n      <td>0d854a374daae737aab4ab7c6e111836</td>\n      <td>1</td>\n    </tr>\n    <tr>\n      <td>...</td>\n      <td>...</td>\n    </tr>\n    <tr>\n      <td>f2176243068a5291219ea2acbe512026</td>\n      <td>1</td>\n    </tr>\n    <tr>\n      <td>f552b34bfaec0b1c49939c8de5bf09cd</td>\n      <td>1</td>\n    </tr>\n    <tr>\n      <td>f59d6ec3df66537b0f82622db13a6d22</td>\n      <td>1</td>\n    </tr>\n    <tr>\n      <td>f67308e65280f43c78398f1c9da6c52d</td>\n      <td>1</td>\n    </tr>\n    <tr>\n      <td>fc1aaa672f02efd05d7a2384e947c227</td>\n      <td>1</td>\n    </tr>\n  </tbody>\n</table>\n<p>74 rows × 1 columns</p>\n</div>"
     },
     "metadata": {},
     "execution_count": 316
    }
   ],
   "source": [
    "grouped_df = files_df.groupby('hash').count()\n",
    "grouped_df.to_csv('common.csv')\n",
    "grouped_df"
   ]
  }
 ]
}