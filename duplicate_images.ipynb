{
 "nbformat": 4,
 "nbformat_minor": 2,
 "metadata": {
  "language_info": {
   "name": "python",
   "codemirror_mode": {
    "name": "ipython",
    "version": 3
   },
   "version": "3.7.3-final"
  },
  "orig_nbformat": 2,
  "file_extension": ".py",
  "mimetype": "text/x-python",
  "name": "python",
  "npconvert_exporter": "python",
  "pygments_lexer": "ipython3",
  "version": 3,
  "kernelspec": {
   "name": "python37364bit230750f2ffa44fbfaec87aca222121f5",
   "display_name": "Python 3.7.3 64-bit"
  }
 },
 "cells": [
  {
   "cell_type": "markdown",
   "metadata": {},
   "source": [
    "## Function to create a list with all the file paths within a path"
   ]
  },
  {
   "cell_type": "code",
   "execution_count": 574,
   "metadata": {},
   "outputs": [],
   "source": [
    "def getFilePaths(path):\n",
    "    # Function to return a list of files in a path:\n",
    "    # Initialize a list for all the file names\n",
    "    files = list()\n",
    "    # Look for folders in the list\n",
    "    for file in os.listdir(path):\n",
    "        # Concatenate a path for each file\n",
    "        pathfile = os.path.join(path, file)\n",
    "        # Validate if the pathfile is a folder\n",
    "        if os.path.isdir(pathfile):\n",
    "            files = files + getFilePaths(pathfile)\n",
    "        else:\n",
    "            files.append(pathfile)\n",
    "    return files      "
   ]
  },
  {
   "cell_type": "markdown",
   "metadata": {},
   "source": [
    "## Create a dataframe with the list of paths"
   ]
  },
  {
   "cell_type": "code",
   "execution_count": 575,
   "metadata": {},
   "outputs": [],
   "source": [
    "# Import dependencies\n",
    "import pandas as pd, time, hashlib"
   ]
  },
  {
   "cell_type": "code",
   "execution_count": 576,
   "metadata": {},
   "outputs": [
    {
     "output_type": "execute_result",
     "data": {
      "text/plain": "                                                path  \\\n0                               ../Photos2/.DS_Store   \n1  ../Photos2/New Folder With Items 2/7612e4ee-b4...   \n2  ../Photos2/New Folder With Items 2/0009845a-53...   \n3  ../Photos2/New Folder With Items/0009845a-53ab...   \n4  ../Photos2/New Folder With Items/0009845a-53ab...   \n\n                               hash  \\\n0  442550fe7605a4815b5cfcd2826a0b31   \n1  135a0a7b2f5eece7ce53c6fbb26e9cd9   \n2  933827ccd64bd5345025069ddc79451f   \n3  933827ccd64bd5345025069ddc79451f   \n4  933827ccd64bd5345025069ddc79451f   \n\n                                          filename  count  \\\n0                                        .DS_Store      1   \n1         7612e4ee-b49a-46d2-94d9-fbc234c71b2e.jpg      1   \n2  0009845a-53ab-4b7b-838e-3e76fa6a638f copy 2.jpg      1   \n3         0009845a-53ab-4b7b-838e-3e76fa6a638f.jpg      1   \n4  0009845a-53ab-4b7b-838e-3e76fa6a638f copy 3.jpg      1   \n\n               created             modified  \n0  2020-04-09 19:00:48  2020-04-09 19:00:48  \n1  2020-04-09 19:00:43  2020-04-07 14:38:28  \n2  2020-04-09 19:00:43  2020-04-07 15:13:26  \n3  2020-04-09 19:00:38  2020-04-07 15:13:26  \n4  2020-04-09 19:00:38  2020-04-07 15:13:26  ",
      "text/html": "<div>\n<style scoped>\n    .dataframe tbody tr th:only-of-type {\n        vertical-align: middle;\n    }\n\n    .dataframe tbody tr th {\n        vertical-align: top;\n    }\n\n    .dataframe thead th {\n        text-align: right;\n    }\n</style>\n<table border=\"1\" class=\"dataframe\">\n  <thead>\n    <tr style=\"text-align: right;\">\n      <th></th>\n      <th>path</th>\n      <th>hash</th>\n      <th>filename</th>\n      <th>count</th>\n      <th>created</th>\n      <th>modified</th>\n    </tr>\n  </thead>\n  <tbody>\n    <tr>\n      <td>0</td>\n      <td>../Photos2/.DS_Store</td>\n      <td>442550fe7605a4815b5cfcd2826a0b31</td>\n      <td>.DS_Store</td>\n      <td>1</td>\n      <td>2020-04-09 19:00:48</td>\n      <td>2020-04-09 19:00:48</td>\n    </tr>\n    <tr>\n      <td>1</td>\n      <td>../Photos2/New Folder With Items 2/7612e4ee-b4...</td>\n      <td>135a0a7b2f5eece7ce53c6fbb26e9cd9</td>\n      <td>7612e4ee-b49a-46d2-94d9-fbc234c71b2e.jpg</td>\n      <td>1</td>\n      <td>2020-04-09 19:00:43</td>\n      <td>2020-04-07 14:38:28</td>\n    </tr>\n    <tr>\n      <td>2</td>\n      <td>../Photos2/New Folder With Items 2/0009845a-53...</td>\n      <td>933827ccd64bd5345025069ddc79451f</td>\n      <td>0009845a-53ab-4b7b-838e-3e76fa6a638f copy 2.jpg</td>\n      <td>1</td>\n      <td>2020-04-09 19:00:43</td>\n      <td>2020-04-07 15:13:26</td>\n    </tr>\n    <tr>\n      <td>3</td>\n      <td>../Photos2/New Folder With Items/0009845a-53ab...</td>\n      <td>933827ccd64bd5345025069ddc79451f</td>\n      <td>0009845a-53ab-4b7b-838e-3e76fa6a638f.jpg</td>\n      <td>1</td>\n      <td>2020-04-09 19:00:38</td>\n      <td>2020-04-07 15:13:26</td>\n    </tr>\n    <tr>\n      <td>4</td>\n      <td>../Photos2/New Folder With Items/0009845a-53ab...</td>\n      <td>933827ccd64bd5345025069ddc79451f</td>\n      <td>0009845a-53ab-4b7b-838e-3e76fa6a638f copy 3.jpg</td>\n      <td>1</td>\n      <td>2020-04-09 19:00:38</td>\n      <td>2020-04-07 15:13:26</td>\n    </tr>\n  </tbody>\n</table>\n</div>"
     },
     "metadata": {},
     "execution_count": 576
    }
   ],
   "source": [
    "# Path with the files to look for duplicates\n",
    "path='../Photos2'\n",
    "# Initialize and empty dataframe with the paths of the files in the given path\n",
    "files_df = pd.DataFrame(getFilePaths(path),columns=['path'])\n",
    "# Initialize Columns for the dataframe \n",
    "files_df['hash'] = 0\n",
    "files_df['filename'] = ''\n",
    "files_df['count'] = 1\n",
    "files_df['created'] = 0\n",
    "files_df['modified'] = 0\n",
    "\n",
    "# Loop to fill the dataframe columns with values\n",
    "for row in range(len(files_df)):\n",
    "    # Load the file\n",
    "    image_file = open(files_df['path'][row],'rb').read()\n",
    "    # Encode the file to a hexagsimal number\n",
    "    files_df['hash'][row] = hashlib.md5(image_file).hexdigest()\n",
    "    # Get the filename of the file\n",
    "    files_df['filename'][row] = os.path.basename(files_df['path'][row])\n",
    "    # Get the created date \n",
    "    files_df['created'][row] = pd.to_datetime(time.ctime(os.path.getctime(files_df['path'][row])))\n",
    "    # Get the modified date \n",
    "    files_df['modified'][row] = pd.to_datetime(time.ctime(os.path.getmtime(files_df['path'][row])))\n",
    "# Print first rows of the dataframe    \n",
    "files_df.head()"
   ]
  },
  {
   "cell_type": "code",
   "execution_count": 577,
   "metadata": {},
   "outputs": [
    {
     "output_type": "execute_result",
     "data": {
      "text/plain": "                                  count\nhash                                   \n933827ccd64bd5345025069ddc79451f      4\nAll                                   4",
      "text/html": "<div>\n<style scoped>\n    .dataframe tbody tr th:only-of-type {\n        vertical-align: middle;\n    }\n\n    .dataframe tbody tr th {\n        vertical-align: top;\n    }\n\n    .dataframe thead th {\n        text-align: right;\n    }\n</style>\n<table border=\"1\" class=\"dataframe\">\n  <thead>\n    <tr style=\"text-align: right;\">\n      <th></th>\n      <th>count</th>\n    </tr>\n    <tr>\n      <th>hash</th>\n      <th></th>\n    </tr>\n  </thead>\n  <tbody>\n    <tr>\n      <td>933827ccd64bd5345025069ddc79451f</td>\n      <td>4</td>\n    </tr>\n    <tr>\n      <td>All</td>\n      <td>4</td>\n    </tr>\n  </tbody>\n</table>\n</div>"
     },
     "metadata": {},
     "execution_count": 577
    }
   ],
   "source": [
    "import numpy as np, datetime\n",
    "reapeated_files_df = files_df.groupby('hash').sum()\n",
    "reapeated_files_df = reapeated_files_df[reapeated_files_df['count'] > 1]\n",
    "pivot_df = pd.pivot_table(reapeated_files_df, values='count', index=['hash'], aggfunc=np.sum, margins=True)\n",
    "now_string = datetime.datetime.now().strftime(\"%Y-%m-%d %H-%M-%S\")\n",
    "pivot_df.to_csv('repeated_' + now_string + '.csv' )\n",
    "pivot_df"
   ]
  },
  {
   "cell_type": "code",
   "execution_count": 578,
   "metadata": {},
   "outputs": [
    {
     "output_type": "execute_result",
     "data": {
      "text/plain": "                                                                                                                             count\nhash                             path                                               created             modified                  \n933827ccd64bd5345025069ddc79451f ../Photos2/New Folder With Items/0009845a-53ab-... 2020-04-09 19:00:38 2020-04-07 15:13:26      1\n                                 ../Photos2/New Folder With Items/0009845a-53ab-... 2020-04-09 19:00:38 2020-04-07 15:13:26      1\n                                 ../Photos2/New Folder With Items/0009845a-53ab-... 2020-04-09 19:00:38 2020-04-07 15:13:26      1\n                                 ../Photos2/New Folder With Items 2/0009845a-53a... 2020-04-09 19:00:43 2020-04-07 15:13:26      1",
      "text/html": "<div>\n<style scoped>\n    .dataframe tbody tr th:only-of-type {\n        vertical-align: middle;\n    }\n\n    .dataframe tbody tr th {\n        vertical-align: top;\n    }\n\n    .dataframe thead th {\n        text-align: right;\n    }\n</style>\n<table border=\"1\" class=\"dataframe\">\n  <thead>\n    <tr style=\"text-align: right;\">\n      <th></th>\n      <th></th>\n      <th></th>\n      <th></th>\n      <th>count</th>\n    </tr>\n    <tr>\n      <th>hash</th>\n      <th>path</th>\n      <th>created</th>\n      <th>modified</th>\n      <th></th>\n    </tr>\n  </thead>\n  <tbody>\n    <tr>\n      <td rowspan=\"4\" valign=\"top\">933827ccd64bd5345025069ddc79451f</td>\n      <td>../Photos2/New Folder With Items/0009845a-53ab-4b7b-838e-3e76fa6a638f copy 3.jpg</td>\n      <td>2020-04-09 19:00:38</td>\n      <td>2020-04-07 15:13:26</td>\n      <td>1</td>\n    </tr>\n    <tr>\n      <td>../Photos2/New Folder With Items/0009845a-53ab-4b7b-838e-3e76fa6a638f copy.jpg</td>\n      <td>2020-04-09 19:00:38</td>\n      <td>2020-04-07 15:13:26</td>\n      <td>1</td>\n    </tr>\n    <tr>\n      <td>../Photos2/New Folder With Items/0009845a-53ab-4b7b-838e-3e76fa6a638f.jpg</td>\n      <td>2020-04-09 19:00:38</td>\n      <td>2020-04-07 15:13:26</td>\n      <td>1</td>\n    </tr>\n    <tr>\n      <td>../Photos2/New Folder With Items 2/0009845a-53ab-4b7b-838e-3e76fa6a638f copy 2.jpg</td>\n      <td>2020-04-09 19:00:43</td>\n      <td>2020-04-07 15:13:26</td>\n      <td>1</td>\n    </tr>\n  </tbody>\n</table>\n</div>"
     },
     "metadata": {},
     "execution_count": 578
    }
   ],
   "source": [
    "repeated_path_df = files_df[files_df['hash'].isin(pivot_df.index.to_list())]\n",
    "repeated_path_df = repeated_path_df.groupby(['hash','path','created','modified']).sum().sort_values(by=['hash', 'created', 'modified'], ascending=True)\n",
    "repeated_path_df.to_csv('repeated_list' + now_string + '.csv' )\n",
    "repeated_path_df\n",
    "\n",
    ""
   ]
  },
  {
   "cell_type": "code",
   "execution_count": 579,
   "metadata": {},
   "outputs": [
    {
     "output_type": "execute_result",
     "data": {
      "text/plain": "range(1, 4)"
     },
     "metadata": {},
     "execution_count": 579
    }
   ],
   "source": [
    "range(1,len(repeated_path_df.index.get_level_values(1).tolist()))"
   ]
  },
  {
   "cell_type": "code",
   "execution_count": 580,
   "metadata": {},
   "outputs": [
    {
     "output_type": "execute_result",
     "data": {
      "text/plain": "                                                                                                                             count  \\\nhash                             path                                               created             modified                     \n933827ccd64bd5345025069ddc79451f ../Photos2/New Folder With Items/0009845a-53ab-... 2020-04-09 19:00:38 2020-04-07 15:13:26      1   \n                                 ../Photos2/New Folder With Items/0009845a-53ab-... 2020-04-09 19:00:38 2020-04-07 15:13:26      1   \n                                 ../Photos2/New Folder With Items/0009845a-53ab-... 2020-04-09 19:00:38 2020-04-07 15:13:26      1   \n                                 ../Photos2/New Folder With Items 2/0009845a-53a... 2020-04-09 19:00:43 2020-04-07 15:13:26      1   \n\n                                                                                                                             action  \nhash                             path                                               created             modified                     \n933827ccd64bd5345025069ddc79451f ../Photos2/New Folder With Items/0009845a-53ab-... 2020-04-09 19:00:38 2020-04-07 15:13:26   leave  \n                                 ../Photos2/New Folder With Items/0009845a-53ab-... 2020-04-09 19:00:38 2020-04-07 15:13:26  delete  \n                                 ../Photos2/New Folder With Items/0009845a-53ab-... 2020-04-09 19:00:38 2020-04-07 15:13:26  delete  \n                                 ../Photos2/New Folder With Items 2/0009845a-53a... 2020-04-09 19:00:43 2020-04-07 15:13:26  delete  ",
      "text/html": "<div>\n<style scoped>\n    .dataframe tbody tr th:only-of-type {\n        vertical-align: middle;\n    }\n\n    .dataframe tbody tr th {\n        vertical-align: top;\n    }\n\n    .dataframe thead th {\n        text-align: right;\n    }\n</style>\n<table border=\"1\" class=\"dataframe\">\n  <thead>\n    <tr style=\"text-align: right;\">\n      <th></th>\n      <th></th>\n      <th></th>\n      <th></th>\n      <th>count</th>\n      <th>action</th>\n    </tr>\n    <tr>\n      <th>hash</th>\n      <th>path</th>\n      <th>created</th>\n      <th>modified</th>\n      <th></th>\n      <th></th>\n    </tr>\n  </thead>\n  <tbody>\n    <tr>\n      <td rowspan=\"4\" valign=\"top\">933827ccd64bd5345025069ddc79451f</td>\n      <td>../Photos2/New Folder With Items/0009845a-53ab-4b7b-838e-3e76fa6a638f copy 3.jpg</td>\n      <td>2020-04-09 19:00:38</td>\n      <td>2020-04-07 15:13:26</td>\n      <td>1</td>\n      <td>leave</td>\n    </tr>\n    <tr>\n      <td>../Photos2/New Folder With Items/0009845a-53ab-4b7b-838e-3e76fa6a638f copy.jpg</td>\n      <td>2020-04-09 19:00:38</td>\n      <td>2020-04-07 15:13:26</td>\n      <td>1</td>\n      <td>delete</td>\n    </tr>\n    <tr>\n      <td>../Photos2/New Folder With Items/0009845a-53ab-4b7b-838e-3e76fa6a638f.jpg</td>\n      <td>2020-04-09 19:00:38</td>\n      <td>2020-04-07 15:13:26</td>\n      <td>1</td>\n      <td>delete</td>\n    </tr>\n    <tr>\n      <td>../Photos2/New Folder With Items 2/0009845a-53ab-4b7b-838e-3e76fa6a638f copy 2.jpg</td>\n      <td>2020-04-09 19:00:43</td>\n      <td>2020-04-07 15:13:26</td>\n      <td>1</td>\n      <td>delete</td>\n    </tr>\n  </tbody>\n</table>\n</div>"
     },
     "metadata": {},
     "execution_count": 580
    }
   ],
   "source": [
    "\n",
    "repeated_path_df['action'] = ''\n",
    "repeated_path_df['action'][0] = 'leave' \n",
    "\n",
    "\n",
    "for i in range(1,len(repeated_path_df.index.get_level_values(1).tolist())):\n",
    "    if repeated_path_df.index.get_level_values(0)[i] == repeated_path_df.index.get_level_values(0)[i-1]:\n",
    "        repeated_path_df['action'][i] = 'delete' \n",
    "    else:\n",
    "        repeated_path_df['action'][i] = 'delete' \n",
    "\n",
    "repeated_path_df        "
   ]
  },
  {
   "cell_type": "code",
   "execution_count": 581,
   "metadata": {},
   "outputs": [
    {
     "output_type": "execute_result",
     "data": {
      "text/plain": "4"
     },
     "metadata": {},
     "execution_count": 581
    }
   ],
   "source": [
    "len(repeated_path_df.index.get_level_values(1).tolist())\n",
    "\n",
    "\n",
    ""
   ]
  },
  {
   "cell_type": "code",
   "execution_count": 582,
   "metadata": {},
   "outputs": [
    {
     "output_type": "stream",
     "name": "stdout",
     "text": "933827ccd64bd5345025069ddc79451f\n"
    }
   ],
   "source": [
    "# Delete list\n",
    "for path in repeated_path_df.index.get_level_values(0).unique().to_list():\n",
    "    print(path)\n",
    "    "
   ]
  }
 ]
}