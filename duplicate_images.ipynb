{
 "nbformat": 4,
 "nbformat_minor": 2,
 "metadata": {
  "language_info": {
   "name": "python",
   "codemirror_mode": {
    "name": "ipython",
    "version": 3
   },
   "version": "3.7.3-final"
  },
  "orig_nbformat": 2,
  "file_extension": ".py",
  "mimetype": "text/x-python",
  "name": "python",
  "npconvert_exporter": "python",
  "pygments_lexer": "ipython3",
  "version": 3,
  "kernelspec": {
   "name": "python37364bit230750f2ffa44fbfaec87aca222121f5",
   "display_name": "Python 3.7.3 64-bit"
  }
 },
 "cells": [
  {
   "cell_type": "code",
   "execution_count": 250,
   "metadata": {},
   "outputs": [],
   "source": [
    "import pandas as pd\n",
    "import hashlib\n",
    "def getFilePaths(path):\n",
    "    # Function to return a list of files in a path:\n",
    "    # Initialize a list for all the file names\n",
    "    files = list()\n",
    "    # Look for folders in the list\n",
    "    for file in os.listdir(path):\n",
    "        # Concatenate a path for each file\n",
    "        pathfile = os.path.join(path, file)\n",
    "        # Validate if the pathfile is a folder\n",
    "        if os.path.isdir(pathfile):\n",
    "            files = files + getFilePaths(pathfile)\n",
    "        else:\n",
    "            files.append(pathfile)\n",
    "    return files      \n",
    ""
   ]
  },
  {
   "cell_type": "code",
   "execution_count": 251,
   "metadata": {},
   "outputs": [
    {
     "output_type": "execute_result",
     "data": {
      "text/plain": "                                                 path  hash\n0   /Users/cemoga/Documents/OneDrive/Home/Apartame...     1\n1   /Users/cemoga/Documents/OneDrive/Home/Apartame...     1\n2   /Users/cemoga/Documents/OneDrive/Home/Apartame...     1\n3   /Users/cemoga/Documents/OneDrive/Home/Apartame...     1\n4   /Users/cemoga/Documents/OneDrive/Home/Apartame...     1\n5   /Users/cemoga/Documents/OneDrive/Home/Apartame...     1\n6   /Users/cemoga/Documents/OneDrive/Home/Apartame...     1\n7   /Users/cemoga/Documents/OneDrive/Home/Apartame...     1\n8   /Users/cemoga/Documents/OneDrive/Home/Apartame...     1\n9   /Users/cemoga/Documents/OneDrive/Home/Apartame...     1\n10  /Users/cemoga/Documents/OneDrive/Home/Apartame...     1\n11  /Users/cemoga/Documents/OneDrive/Home/Apartame...     1\n12  /Users/cemoga/Documents/OneDrive/Home/Apartame...     1\n13  /Users/cemoga/Documents/OneDrive/Home/Apartame...     1\n14  /Users/cemoga/Documents/OneDrive/Home/Apartame...     1\n15  /Users/cemoga/Documents/OneDrive/Home/Apartame...     1\n16  /Users/cemoga/Documents/OneDrive/Home/Apartame...     1\n17  /Users/cemoga/Documents/OneDrive/Home/Apartame...     1\n18  /Users/cemoga/Documents/OneDrive/Home/Apartame...     1\n19  /Users/cemoga/Documents/OneDrive/Home/Apartame...     1\n20  /Users/cemoga/Documents/OneDrive/Home/Apartame...     1\n21  /Users/cemoga/Documents/OneDrive/Home/Apartame...     1\n22  /Users/cemoga/Documents/OneDrive/Home/Apartame...     1\n23  /Users/cemoga/Documents/OneDrive/Home/Apartame...     1\n24  /Users/cemoga/Documents/OneDrive/Home/Apartame...     1\n25  /Users/cemoga/Documents/OneDrive/Home/Apartame...     1",
      "text/html": "<div>\n<style scoped>\n    .dataframe tbody tr th:only-of-type {\n        vertical-align: middle;\n    }\n\n    .dataframe tbody tr th {\n        vertical-align: top;\n    }\n\n    .dataframe thead th {\n        text-align: right;\n    }\n</style>\n<table border=\"1\" class=\"dataframe\">\n  <thead>\n    <tr style=\"text-align: right;\">\n      <th></th>\n      <th>path</th>\n      <th>hash</th>\n    </tr>\n  </thead>\n  <tbody>\n    <tr>\n      <td>0</td>\n      <td>/Users/cemoga/Documents/OneDrive/Home/Apartame...</td>\n      <td>1</td>\n    </tr>\n    <tr>\n      <td>1</td>\n      <td>/Users/cemoga/Documents/OneDrive/Home/Apartame...</td>\n      <td>1</td>\n    </tr>\n    <tr>\n      <td>2</td>\n      <td>/Users/cemoga/Documents/OneDrive/Home/Apartame...</td>\n      <td>1</td>\n    </tr>\n    <tr>\n      <td>3</td>\n      <td>/Users/cemoga/Documents/OneDrive/Home/Apartame...</td>\n      <td>1</td>\n    </tr>\n    <tr>\n      <td>4</td>\n      <td>/Users/cemoga/Documents/OneDrive/Home/Apartame...</td>\n      <td>1</td>\n    </tr>\n    <tr>\n      <td>5</td>\n      <td>/Users/cemoga/Documents/OneDrive/Home/Apartame...</td>\n      <td>1</td>\n    </tr>\n    <tr>\n      <td>6</td>\n      <td>/Users/cemoga/Documents/OneDrive/Home/Apartame...</td>\n      <td>1</td>\n    </tr>\n    <tr>\n      <td>7</td>\n      <td>/Users/cemoga/Documents/OneDrive/Home/Apartame...</td>\n      <td>1</td>\n    </tr>\n    <tr>\n      <td>8</td>\n      <td>/Users/cemoga/Documents/OneDrive/Home/Apartame...</td>\n      <td>1</td>\n    </tr>\n    <tr>\n      <td>9</td>\n      <td>/Users/cemoga/Documents/OneDrive/Home/Apartame...</td>\n      <td>1</td>\n    </tr>\n    <tr>\n      <td>10</td>\n      <td>/Users/cemoga/Documents/OneDrive/Home/Apartame...</td>\n      <td>1</td>\n    </tr>\n    <tr>\n      <td>11</td>\n      <td>/Users/cemoga/Documents/OneDrive/Home/Apartame...</td>\n      <td>1</td>\n    </tr>\n    <tr>\n      <td>12</td>\n      <td>/Users/cemoga/Documents/OneDrive/Home/Apartame...</td>\n      <td>1</td>\n    </tr>\n    <tr>\n      <td>13</td>\n      <td>/Users/cemoga/Documents/OneDrive/Home/Apartame...</td>\n      <td>1</td>\n    </tr>\n    <tr>\n      <td>14</td>\n      <td>/Users/cemoga/Documents/OneDrive/Home/Apartame...</td>\n      <td>1</td>\n    </tr>\n    <tr>\n      <td>15</td>\n      <td>/Users/cemoga/Documents/OneDrive/Home/Apartame...</td>\n      <td>1</td>\n    </tr>\n    <tr>\n      <td>16</td>\n      <td>/Users/cemoga/Documents/OneDrive/Home/Apartame...</td>\n      <td>1</td>\n    </tr>\n    <tr>\n      <td>17</td>\n      <td>/Users/cemoga/Documents/OneDrive/Home/Apartame...</td>\n      <td>1</td>\n    </tr>\n    <tr>\n      <td>18</td>\n      <td>/Users/cemoga/Documents/OneDrive/Home/Apartame...</td>\n      <td>1</td>\n    </tr>\n    <tr>\n      <td>19</td>\n      <td>/Users/cemoga/Documents/OneDrive/Home/Apartame...</td>\n      <td>1</td>\n    </tr>\n    <tr>\n      <td>20</td>\n      <td>/Users/cemoga/Documents/OneDrive/Home/Apartame...</td>\n      <td>1</td>\n    </tr>\n    <tr>\n      <td>21</td>\n      <td>/Users/cemoga/Documents/OneDrive/Home/Apartame...</td>\n      <td>1</td>\n    </tr>\n    <tr>\n      <td>22</td>\n      <td>/Users/cemoga/Documents/OneDrive/Home/Apartame...</td>\n      <td>1</td>\n    </tr>\n    <tr>\n      <td>23</td>\n      <td>/Users/cemoga/Documents/OneDrive/Home/Apartame...</td>\n      <td>1</td>\n    </tr>\n    <tr>\n      <td>24</td>\n      <td>/Users/cemoga/Documents/OneDrive/Home/Apartame...</td>\n      <td>1</td>\n    </tr>\n    <tr>\n      <td>25</td>\n      <td>/Users/cemoga/Documents/OneDrive/Home/Apartame...</td>\n      <td>1</td>\n    </tr>\n  </tbody>\n</table>\n</div>"
     },
     "metadata": {},
     "execution_count": 251
    }
   ],
   "source": [
    "\n",
    "path='/Users/cemoga/Documents/OneDrive/Home/Apartamento/Home Leave Form'\n",
    "\n",
    "files_df = pd.DataFrame(getFilePaths(path),columns=['path'])\n",
    "files_df['hash'] = 1\n",
    "files_df\n",
    "\n"
   ]
  }
 ]
}