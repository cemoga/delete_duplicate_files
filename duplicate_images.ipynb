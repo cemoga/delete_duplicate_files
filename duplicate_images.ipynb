{
 "nbformat": 4,
 "nbformat_minor": 2,
 "metadata": {
  "language_info": {
   "name": "python",
   "codemirror_mode": {
    "name": "ipython",
    "version": 3
   },
   "version": "3.7.3-final"
  },
  "orig_nbformat": 2,
  "file_extension": ".py",
  "mimetype": "text/x-python",
  "name": "python",
  "npconvert_exporter": "python",
  "pygments_lexer": "ipython3",
  "version": 3,
  "kernelspec": {
   "name": "python37364bit230750f2ffa44fbfaec87aca222121f5",
   "display_name": "Python 3.7.3 64-bit"
  }
 },
 "cells": [
  {
   "cell_type": "markdown",
   "metadata": {},
   "source": [
    "## Function to create a list with all the file paths within a path"
   ]
  },
  {
   "cell_type": "code",
   "execution_count": 37,
   "metadata": {},
   "outputs": [],
   "source": [
    "import pandas as pd\n",
    "import hashlib\n",
    "def getFilePaths(path):\n",
    "    # Function to return a list of files in a path:\n",
    "    # Initialize a list for all the file names\n",
    "    files = list()\n",
    "    # Look for folders in the list\n",
    "    for file in os.listdir(path):\n",
    "        # Concatenate a path for each file\n",
    "        pathfile = os.path.join(path, file)\n",
    "        # Validate if the pathfile is a folder\n",
    "        if os.path.isdir(pathfile):\n",
    "            files = files + getFilePaths(pathfile)\n",
    "        else:\n",
    "            files.append(pathfile)\n",
    "    return files      "
   ]
  },
  {
   "cell_type": "markdown",
   "metadata": {},
   "source": [
    "## Create a dataframe with the list of paths"
   ]
  },
  {
   "cell_type": "code",
   "execution_count": 38,
   "metadata": {},
   "outputs": [
    {
     "output_type": "execute_result",
     "data": {
      "text/plain": "                                                 path  \\\n0                                 ../Photos/.DS_Store   \n1      ../Photos/New Folder With Items 5/DSC_0030.jpg   \n2      ../Photos/New Folder With Items 5/DSC_0024.jpg   \n3      ../Photos/New Folder With Items 5/DSC_0018.jpg   \n4      ../Photos/New Folder With Items 5/DSC_0019.jpg   \n..                                                ...   \n77  ../Photos/New Folder With Items/0009845a-53ab-...   \n78  ../Photos/New Folder With Items/2a42e755-9ac0-...   \n79  ../Photos/New Folder With Items/507c61f2-2cc9-...   \n80  ../Photos/New Folder With Items/0009845a-53ab-...   \n81  ../Photos/New Folder With Items/6c5f2221-f892-...   \n\n                                hash  \\\n0   5f27466e92caf57a930058b683ad5f7e   \n1   b8cc4ead5b44bdd8e994c21287e618e8   \n2   683d7efc80e910a2691880ca0ad9d059   \n3   689a4e61ff572cb10ca471fb58004df1   \n4   4d8c40e515d43b15a2dd6f826fdd1163   \n..                               ...   \n77  933827ccd64bd5345025069ddc79451f   \n78  d3773a9b2bf4fac3ffe8656e253195eb   \n79  74198ac70368792400a3a1a0900cc769   \n80  933827ccd64bd5345025069ddc79451f   \n81  21e1de528846733d78e3565a91145e3e   \n\n                                           filename  count  unique  \n0                                         .DS_Store      1       1  \n1                                      DSC_0030.jpg      1       1  \n2                                      DSC_0024.jpg      1       1  \n3                                      DSC_0018.jpg      1       1  \n4                                      DSC_0019.jpg      1       1  \n..                                              ...    ...     ...  \n77  0009845a-53ab-4b7b-838e-3e76fa6a638f copy 3.jpg      1       1  \n78         2a42e755-9ac0-4d36-b1ee-aae61aa89720.jpg      1       1  \n79         507c61f2-2cc9-46d9-8e0d-720a8ba8a3ba.jpg      1       1  \n80    0009845a-53ab-4b7b-838e-3e76fa6a638f copy.jpg      1       1  \n81         6c5f2221-f892-45b2-a14c-e51a18dd5141.jpg      1       1  \n\n[82 rows x 5 columns]",
      "text/html": "<div>\n<style scoped>\n    .dataframe tbody tr th:only-of-type {\n        vertical-align: middle;\n    }\n\n    .dataframe tbody tr th {\n        vertical-align: top;\n    }\n\n    .dataframe thead th {\n        text-align: right;\n    }\n</style>\n<table border=\"1\" class=\"dataframe\">\n  <thead>\n    <tr style=\"text-align: right;\">\n      <th></th>\n      <th>path</th>\n      <th>hash</th>\n      <th>filename</th>\n      <th>count</th>\n      <th>unique</th>\n    </tr>\n  </thead>\n  <tbody>\n    <tr>\n      <td>0</td>\n      <td>../Photos/.DS_Store</td>\n      <td>5f27466e92caf57a930058b683ad5f7e</td>\n      <td>.DS_Store</td>\n      <td>1</td>\n      <td>1</td>\n    </tr>\n    <tr>\n      <td>1</td>\n      <td>../Photos/New Folder With Items 5/DSC_0030.jpg</td>\n      <td>b8cc4ead5b44bdd8e994c21287e618e8</td>\n      <td>DSC_0030.jpg</td>\n      <td>1</td>\n      <td>1</td>\n    </tr>\n    <tr>\n      <td>2</td>\n      <td>../Photos/New Folder With Items 5/DSC_0024.jpg</td>\n      <td>683d7efc80e910a2691880ca0ad9d059</td>\n      <td>DSC_0024.jpg</td>\n      <td>1</td>\n      <td>1</td>\n    </tr>\n    <tr>\n      <td>3</td>\n      <td>../Photos/New Folder With Items 5/DSC_0018.jpg</td>\n      <td>689a4e61ff572cb10ca471fb58004df1</td>\n      <td>DSC_0018.jpg</td>\n      <td>1</td>\n      <td>1</td>\n    </tr>\n    <tr>\n      <td>4</td>\n      <td>../Photos/New Folder With Items 5/DSC_0019.jpg</td>\n      <td>4d8c40e515d43b15a2dd6f826fdd1163</td>\n      <td>DSC_0019.jpg</td>\n      <td>1</td>\n      <td>1</td>\n    </tr>\n    <tr>\n      <td>...</td>\n      <td>...</td>\n      <td>...</td>\n      <td>...</td>\n      <td>...</td>\n      <td>...</td>\n    </tr>\n    <tr>\n      <td>77</td>\n      <td>../Photos/New Folder With Items/0009845a-53ab-...</td>\n      <td>933827ccd64bd5345025069ddc79451f</td>\n      <td>0009845a-53ab-4b7b-838e-3e76fa6a638f copy 3.jpg</td>\n      <td>1</td>\n      <td>1</td>\n    </tr>\n    <tr>\n      <td>78</td>\n      <td>../Photos/New Folder With Items/2a42e755-9ac0-...</td>\n      <td>d3773a9b2bf4fac3ffe8656e253195eb</td>\n      <td>2a42e755-9ac0-4d36-b1ee-aae61aa89720.jpg</td>\n      <td>1</td>\n      <td>1</td>\n    </tr>\n    <tr>\n      <td>79</td>\n      <td>../Photos/New Folder With Items/507c61f2-2cc9-...</td>\n      <td>74198ac70368792400a3a1a0900cc769</td>\n      <td>507c61f2-2cc9-46d9-8e0d-720a8ba8a3ba.jpg</td>\n      <td>1</td>\n      <td>1</td>\n    </tr>\n    <tr>\n      <td>80</td>\n      <td>../Photos/New Folder With Items/0009845a-53ab-...</td>\n      <td>933827ccd64bd5345025069ddc79451f</td>\n      <td>0009845a-53ab-4b7b-838e-3e76fa6a638f copy.jpg</td>\n      <td>1</td>\n      <td>1</td>\n    </tr>\n    <tr>\n      <td>81</td>\n      <td>../Photos/New Folder With Items/6c5f2221-f892-...</td>\n      <td>21e1de528846733d78e3565a91145e3e</td>\n      <td>6c5f2221-f892-45b2-a14c-e51a18dd5141.jpg</td>\n      <td>1</td>\n      <td>1</td>\n    </tr>\n  </tbody>\n</table>\n<p>82 rows × 5 columns</p>\n</div>"
     },
     "metadata": {},
     "execution_count": 38
    }
   ],
   "source": [
    "\n",
    "path='../Photos'\n",
    "\n",
    "files_df = pd.DataFrame(getFilePaths(path),columns=['path'])\n",
    "#files_df['image_file'] = hashlib.md5(open(files_df['path']).read()).hexdigest()\n",
    "files_df['hash'] = 0\n",
    "files_df['filename'] = ''\n",
    "files_df['count'] = 1\n",
    "for row in range(len(files_df)):\n",
    "    image_file = open(files_df['path'][row],'rb').read()\n",
    "    files_df['hash'][row] = hashlib.md5(image_file).hexdigest()\n",
    "    files_df['filename'][row] = os.path.basename(files_df['path'][row])\n",
    "files_df"
   ]
  },
  {
   "cell_type": "code",
   "execution_count": 39,
   "metadata": {},
   "outputs": [
    {
     "output_type": "execute_result",
     "data": {
      "text/plain": "                                  count\nhash                                   \n2ce0738fb3a0787942c97a0c07d25c2c      2\n6bcb3dd1f6148d9c388d32953b7a030c      2\n933827ccd64bd5345025069ddc79451f      4\nac30e5f00f3a848e6b174b081de267f8      2\ncc5e1128d73fa665d69939e6c088da18      2\nf67308e65280f43c78398f1c9da6c52d      2",
      "text/html": "<div>\n<style scoped>\n    .dataframe tbody tr th:only-of-type {\n        vertical-align: middle;\n    }\n\n    .dataframe tbody tr th {\n        vertical-align: top;\n    }\n\n    .dataframe thead th {\n        text-align: right;\n    }\n</style>\n<table border=\"1\" class=\"dataframe\">\n  <thead>\n    <tr style=\"text-align: right;\">\n      <th></th>\n      <th>count</th>\n    </tr>\n    <tr>\n      <th>hash</th>\n      <th></th>\n    </tr>\n  </thead>\n  <tbody>\n    <tr>\n      <td>2ce0738fb3a0787942c97a0c07d25c2c</td>\n      <td>2</td>\n    </tr>\n    <tr>\n      <td>6bcb3dd1f6148d9c388d32953b7a030c</td>\n      <td>2</td>\n    </tr>\n    <tr>\n      <td>933827ccd64bd5345025069ddc79451f</td>\n      <td>4</td>\n    </tr>\n    <tr>\n      <td>ac30e5f00f3a848e6b174b081de267f8</td>\n      <td>2</td>\n    </tr>\n    <tr>\n      <td>cc5e1128d73fa665d69939e6c088da18</td>\n      <td>2</td>\n    </tr>\n    <tr>\n      <td>f67308e65280f43c78398f1c9da6c52d</td>\n      <td>2</td>\n    </tr>\n  </tbody>\n</table>\n</div>"
     },
     "metadata": {},
     "execution_count": 39
    }
   ],
   "source": [
    "import numpy as np\n",
    "\n",
    "pivot_df = pd.pivot_table(files_df, values='count', index=['hash'], aggfunc=np.sum)\n",
    "pivot_df = pivot_df[pivot_df['count'] > 1]\n",
    "pivot_df.to_csv('common.csv')\n",
    "pivot_df"
   ]
  },
  {
   "cell_type": "code",
   "execution_count": 40,
   "metadata": {},
   "outputs": [
    {
     "output_type": "execute_result",
     "data": {
      "text/plain": "                                hash  \\\n0   2ce0738fb3a0787942c97a0c07d25c2c   \n1   2ce0738fb3a0787942c97a0c07d25c2c   \n2   6bcb3dd1f6148d9c388d32953b7a030c   \n3   6bcb3dd1f6148d9c388d32953b7a030c   \n4   933827ccd64bd5345025069ddc79451f   \n5   933827ccd64bd5345025069ddc79451f   \n6   933827ccd64bd5345025069ddc79451f   \n7   933827ccd64bd5345025069ddc79451f   \n8   ac30e5f00f3a848e6b174b081de267f8   \n9   ac30e5f00f3a848e6b174b081de267f8   \n10  cc5e1128d73fa665d69939e6c088da18   \n11  cc5e1128d73fa665d69939e6c088da18   \n12  f67308e65280f43c78398f1c9da6c52d   \n13  f67308e65280f43c78398f1c9da6c52d   \n\n                                                 path  \\\n0   ../Photos/New Folder With Items 4/DSC_0056 cop...   \n1      ../Photos/New Folder With Items 4/DSC_0056.jpg   \n2   ../Photos/New Folder With Items 4/DSC_0042 cop...   \n3      ../Photos/New Folder With Items 4/DSC_0042.jpg   \n4   ../Photos/New Folder With Items/0009845a-53ab-...   \n5   ../Photos/New Folder With Items/0009845a-53ab-...   \n6   ../Photos/New Folder With Items/0009845a-53ab-...   \n7   ../Photos/New Folder With Items/0009845a-53ab-...   \n8   ../Photos/New Folder With Items 4/DSC_0040 cop...   \n9      ../Photos/New Folder With Items 4/DSC_0040.jpg   \n10  ../Photos/New Folder With Items 4/DSC_0057 cop...   \n11     ../Photos/New Folder With Items 4/DSC_0057.jpg   \n12  ../Photos/New Folder With Items 4/DSC_0041 cop...   \n13     ../Photos/New Folder With Items 4/DSC_0041.jpg   \n\n                                           filename  \n0                                 DSC_0056 copy.jpg  \n1                                      DSC_0056.jpg  \n2                                 DSC_0042 copy.jpg  \n3                                      DSC_0042.jpg  \n4   0009845a-53ab-4b7b-838e-3e76fa6a638f copy 2.jpg  \n5   0009845a-53ab-4b7b-838e-3e76fa6a638f copy 3.jpg  \n6     0009845a-53ab-4b7b-838e-3e76fa6a638f copy.jpg  \n7          0009845a-53ab-4b7b-838e-3e76fa6a638f.jpg  \n8                                 DSC_0040 copy.jpg  \n9                                      DSC_0040.jpg  \n10                                DSC_0057 copy.jpg  \n11                                     DSC_0057.jpg  \n12                                DSC_0041 copy.jpg  \n13                                     DSC_0041.jpg  ",
      "text/html": "<div>\n<style scoped>\n    .dataframe tbody tr th:only-of-type {\n        vertical-align: middle;\n    }\n\n    .dataframe tbody tr th {\n        vertical-align: top;\n    }\n\n    .dataframe thead th {\n        text-align: right;\n    }\n</style>\n<table border=\"1\" class=\"dataframe\">\n  <thead>\n    <tr style=\"text-align: right;\">\n      <th></th>\n      <th>hash</th>\n      <th>path</th>\n      <th>filename</th>\n    </tr>\n  </thead>\n  <tbody>\n    <tr>\n      <td>0</td>\n      <td>2ce0738fb3a0787942c97a0c07d25c2c</td>\n      <td>../Photos/New Folder With Items 4/DSC_0056 cop...</td>\n      <td>DSC_0056 copy.jpg</td>\n    </tr>\n    <tr>\n      <td>1</td>\n      <td>2ce0738fb3a0787942c97a0c07d25c2c</td>\n      <td>../Photos/New Folder With Items 4/DSC_0056.jpg</td>\n      <td>DSC_0056.jpg</td>\n    </tr>\n    <tr>\n      <td>2</td>\n      <td>6bcb3dd1f6148d9c388d32953b7a030c</td>\n      <td>../Photos/New Folder With Items 4/DSC_0042 cop...</td>\n      <td>DSC_0042 copy.jpg</td>\n    </tr>\n    <tr>\n      <td>3</td>\n      <td>6bcb3dd1f6148d9c388d32953b7a030c</td>\n      <td>../Photos/New Folder With Items 4/DSC_0042.jpg</td>\n      <td>DSC_0042.jpg</td>\n    </tr>\n    <tr>\n      <td>4</td>\n      <td>933827ccd64bd5345025069ddc79451f</td>\n      <td>../Photos/New Folder With Items/0009845a-53ab-...</td>\n      <td>0009845a-53ab-4b7b-838e-3e76fa6a638f copy 2.jpg</td>\n    </tr>\n    <tr>\n      <td>5</td>\n      <td>933827ccd64bd5345025069ddc79451f</td>\n      <td>../Photos/New Folder With Items/0009845a-53ab-...</td>\n      <td>0009845a-53ab-4b7b-838e-3e76fa6a638f copy 3.jpg</td>\n    </tr>\n    <tr>\n      <td>6</td>\n      <td>933827ccd64bd5345025069ddc79451f</td>\n      <td>../Photos/New Folder With Items/0009845a-53ab-...</td>\n      <td>0009845a-53ab-4b7b-838e-3e76fa6a638f copy.jpg</td>\n    </tr>\n    <tr>\n      <td>7</td>\n      <td>933827ccd64bd5345025069ddc79451f</td>\n      <td>../Photos/New Folder With Items/0009845a-53ab-...</td>\n      <td>0009845a-53ab-4b7b-838e-3e76fa6a638f.jpg</td>\n    </tr>\n    <tr>\n      <td>8</td>\n      <td>ac30e5f00f3a848e6b174b081de267f8</td>\n      <td>../Photos/New Folder With Items 4/DSC_0040 cop...</td>\n      <td>DSC_0040 copy.jpg</td>\n    </tr>\n    <tr>\n      <td>9</td>\n      <td>ac30e5f00f3a848e6b174b081de267f8</td>\n      <td>../Photos/New Folder With Items 4/DSC_0040.jpg</td>\n      <td>DSC_0040.jpg</td>\n    </tr>\n    <tr>\n      <td>10</td>\n      <td>cc5e1128d73fa665d69939e6c088da18</td>\n      <td>../Photos/New Folder With Items 4/DSC_0057 cop...</td>\n      <td>DSC_0057 copy.jpg</td>\n    </tr>\n    <tr>\n      <td>11</td>\n      <td>cc5e1128d73fa665d69939e6c088da18</td>\n      <td>../Photos/New Folder With Items 4/DSC_0057.jpg</td>\n      <td>DSC_0057.jpg</td>\n    </tr>\n    <tr>\n      <td>12</td>\n      <td>f67308e65280f43c78398f1c9da6c52d</td>\n      <td>../Photos/New Folder With Items 4/DSC_0041 cop...</td>\n      <td>DSC_0041 copy.jpg</td>\n    </tr>\n    <tr>\n      <td>13</td>\n      <td>f67308e65280f43c78398f1c9da6c52d</td>\n      <td>../Photos/New Folder With Items 4/DSC_0041.jpg</td>\n      <td>DSC_0041.jpg</td>\n    </tr>\n  </tbody>\n</table>\n</div>"
     },
     "metadata": {},
     "execution_count": 40
    }
   ],
   "source": [
    "reapeted_df = files_df[['hash','path', 'filename']].sort_values(by=['hash','path']).groupby('hash').filter(lambda x: x['path'].count() > 1).reset_index(drop=True)\n",
    "reapeted_df"
   ]
  },
  {
   "cell_type": "code",
   "execution_count": null,
   "metadata": {},
   "outputs": [],
   "source": []
  }
 ]
}